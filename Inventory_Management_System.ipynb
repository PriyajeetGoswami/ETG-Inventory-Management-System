{
  "nbformat": 4,
  "nbformat_minor": 0,
  "metadata": {
    "colab": {
      "name": "Inventory Management System.ipynb",
      "provenance": [],
      "collapsed_sections": [],
      "include_colab_link": true
    },
    "kernelspec": {
      "name": "python3",
      "display_name": "Python 3"
    },
    "language_info": {
      "name": "python"
    }
  },
  "cells": [
    {
      "cell_type": "markdown",
      "metadata": {
        "id": "view-in-github",
        "colab_type": "text"
      },
      "source": [
        "<a href=\"https://colab.research.google.com/github/PriyajeetGoswami/ETG-Inventory-Management-System/blob/main/Inventory_Management_System.ipynb\" target=\"_parent\"><img src=\"https://colab.research.google.com/assets/colab-badge.svg\" alt=\"Open In Colab\"/></a>"
      ]
    },
    {
      "cell_type": "markdown",
      "metadata": {
        "id": "4anBxayCi7HK"
      },
      "source": [
        "Creating a pandas dataframe from the excel file I created which contains the basic inventory data and then converting to json string format"
      ]
    },
    {
      "cell_type": "code",
      "metadata": {
        "colab": {
          "base_uri": "https://localhost:8080/",
          "height": 1000
        },
        "id": "GHSrbAp3h5TP",
        "outputId": "5d3e0240-3abd-4d65-e89e-dfa57b9b604d"
      },
      "source": [
        "import pandas as pd\n",
        "\n",
        "sheet = pd.read_excel('/content/Book_Store_Inventory_Data.xlsx', sheet_name = 'dir')\n",
        "\n",
        "sheet"
      ],
      "execution_count": null,
      "outputs": [
        {
          "output_type": "execute_result",
          "data": {
            "text/html": [
              "<div>\n",
              "<style scoped>\n",
              "    .dataframe tbody tr th:only-of-type {\n",
              "        vertical-align: middle;\n",
              "    }\n",
              "\n",
              "    .dataframe tbody tr th {\n",
              "        vertical-align: top;\n",
              "    }\n",
              "\n",
              "    .dataframe thead th {\n",
              "        text-align: right;\n",
              "    }\n",
              "</style>\n",
              "<table border=\"1\" class=\"dataframe\">\n",
              "  <thead>\n",
              "    <tr style=\"text-align: right;\">\n",
              "      <th></th>\n",
              "      <th>Title</th>\n",
              "      <th>Author</th>\n",
              "      <th>Category</th>\n",
              "      <th>Language</th>\n",
              "      <th>MRP</th>\n",
              "      <th>Discount</th>\n",
              "      <th>Quantity</th>\n",
              "      <th>Final_Price</th>\n",
              "    </tr>\n",
              "  </thead>\n",
              "  <tbody>\n",
              "    <tr>\n",
              "      <th>0</th>\n",
              "      <td>The Secret Garden</td>\n",
              "      <td>Frances Hodgson Burnett</td>\n",
              "      <td>Crime, Thriller &amp; Mystery</td>\n",
              "      <td>English</td>\n",
              "      <td>175</td>\n",
              "      <td>30</td>\n",
              "      <td>50</td>\n",
              "      <td>122.50</td>\n",
              "    </tr>\n",
              "    <tr>\n",
              "      <th>1</th>\n",
              "      <td>The Complete Novels of Sherlock Holmes</td>\n",
              "      <td>Arthur Conan Doyle</td>\n",
              "      <td>Crime, Thriller &amp; Mystery</td>\n",
              "      <td>English</td>\n",
              "      <td>249</td>\n",
              "      <td>20</td>\n",
              "      <td>50</td>\n",
              "      <td>199.20</td>\n",
              "    </tr>\n",
              "    <tr>\n",
              "      <th>2</th>\n",
              "      <td>The Adventures of Sherlock Holmes</td>\n",
              "      <td>Arthur Conan Doyle</td>\n",
              "      <td>Crime, Thriller &amp; Mystery</td>\n",
              "      <td>English</td>\n",
              "      <td>249</td>\n",
              "      <td>20</td>\n",
              "      <td>50</td>\n",
              "      <td>199.20</td>\n",
              "    </tr>\n",
              "    <tr>\n",
              "      <th>3</th>\n",
              "      <td>The Girl in Room 105</td>\n",
              "      <td>Chetan Bhagat</td>\n",
              "      <td>Crime, Thriller &amp; Mystery</td>\n",
              "      <td>English</td>\n",
              "      <td>199</td>\n",
              "      <td>30</td>\n",
              "      <td>50</td>\n",
              "      <td>139.30</td>\n",
              "    </tr>\n",
              "    <tr>\n",
              "      <th>4</th>\n",
              "      <td>The Girl in Room 105 (Hindi)</td>\n",
              "      <td>Chetan Bhagat</td>\n",
              "      <td>Crime, Thriller &amp; Mystery</td>\n",
              "      <td>Hindi</td>\n",
              "      <td>149</td>\n",
              "      <td>30</td>\n",
              "      <td>25</td>\n",
              "      <td>104.30</td>\n",
              "    </tr>\n",
              "    <tr>\n",
              "      <th>5</th>\n",
              "      <td>One Arranged Murder</td>\n",
              "      <td>Chetan Bhagat</td>\n",
              "      <td>Crime, Thriller &amp; Mystery</td>\n",
              "      <td>English</td>\n",
              "      <td>225</td>\n",
              "      <td>30</td>\n",
              "      <td>40</td>\n",
              "      <td>157.50</td>\n",
              "    </tr>\n",
              "    <tr>\n",
              "      <th>6</th>\n",
              "      <td>Murder on the Orient Express (Poirot)</td>\n",
              "      <td>Agatha Christie</td>\n",
              "      <td>Crime, Thriller &amp; Mystery</td>\n",
              "      <td>English</td>\n",
              "      <td>299</td>\n",
              "      <td>30</td>\n",
              "      <td>25</td>\n",
              "      <td>209.30</td>\n",
              "    </tr>\n",
              "    <tr>\n",
              "      <th>7</th>\n",
              "      <td>The Mystery of the Blue Train (Poirot)</td>\n",
              "      <td>Agatha Christie</td>\n",
              "      <td>Crime, Thriller &amp; Mystery</td>\n",
              "      <td>English</td>\n",
              "      <td>299</td>\n",
              "      <td>30</td>\n",
              "      <td>25</td>\n",
              "      <td>209.30</td>\n",
              "    </tr>\n",
              "    <tr>\n",
              "      <th>8</th>\n",
              "      <td>The Complete Adventures of Feluda Vol. 1</td>\n",
              "      <td>Satyajit Ray</td>\n",
              "      <td>Crime, Thriller &amp; Mystery</td>\n",
              "      <td>Bengali</td>\n",
              "      <td>599</td>\n",
              "      <td>30</td>\n",
              "      <td>25</td>\n",
              "      <td>419.30</td>\n",
              "    </tr>\n",
              "    <tr>\n",
              "      <th>9</th>\n",
              "      <td>The Complete Adventures of Feluda Vol. 2</td>\n",
              "      <td>Satyajit Ray</td>\n",
              "      <td>Crime, Thriller &amp; Mystery</td>\n",
              "      <td>Bengali</td>\n",
              "      <td>599</td>\n",
              "      <td>30</td>\n",
              "      <td>25</td>\n",
              "      <td>419.30</td>\n",
              "    </tr>\n",
              "    <tr>\n",
              "      <th>10</th>\n",
              "      <td>Harry Potter and the Philosopher's Stone</td>\n",
              "      <td>J.K. Rowling</td>\n",
              "      <td>Fantasy</td>\n",
              "      <td>English</td>\n",
              "      <td>499</td>\n",
              "      <td>20</td>\n",
              "      <td>40</td>\n",
              "      <td>399.20</td>\n",
              "    </tr>\n",
              "    <tr>\n",
              "      <th>11</th>\n",
              "      <td>Harry Potter and the Chamber of Secrets</td>\n",
              "      <td>J.K. Rowling</td>\n",
              "      <td>Fantasy</td>\n",
              "      <td>English</td>\n",
              "      <td>499</td>\n",
              "      <td>20</td>\n",
              "      <td>40</td>\n",
              "      <td>399.20</td>\n",
              "    </tr>\n",
              "    <tr>\n",
              "      <th>12</th>\n",
              "      <td>Harry Potter and the Goblet of Fire</td>\n",
              "      <td>J.K. Rowling</td>\n",
              "      <td>Fantasy</td>\n",
              "      <td>English</td>\n",
              "      <td>499</td>\n",
              "      <td>20</td>\n",
              "      <td>40</td>\n",
              "      <td>399.20</td>\n",
              "    </tr>\n",
              "    <tr>\n",
              "      <th>13</th>\n",
              "      <td>Harry Potter and the Order of the Phoenix</td>\n",
              "      <td>J.K. Rowling</td>\n",
              "      <td>Fantasy</td>\n",
              "      <td>English</td>\n",
              "      <td>499</td>\n",
              "      <td>20</td>\n",
              "      <td>40</td>\n",
              "      <td>399.20</td>\n",
              "    </tr>\n",
              "    <tr>\n",
              "      <th>14</th>\n",
              "      <td>Harry Potter and the Half-Blood Prince</td>\n",
              "      <td>J.K. Rowling</td>\n",
              "      <td>Fantasy</td>\n",
              "      <td>English</td>\n",
              "      <td>499</td>\n",
              "      <td>20</td>\n",
              "      <td>40</td>\n",
              "      <td>399.20</td>\n",
              "    </tr>\n",
              "    <tr>\n",
              "      <th>15</th>\n",
              "      <td>Harry Potter and the Deathly Hallows</td>\n",
              "      <td>J.K. Rowling</td>\n",
              "      <td>Fantasy</td>\n",
              "      <td>English</td>\n",
              "      <td>499</td>\n",
              "      <td>20</td>\n",
              "      <td>40</td>\n",
              "      <td>399.20</td>\n",
              "    </tr>\n",
              "    <tr>\n",
              "      <th>16</th>\n",
              "      <td>Harry Potter and the Deathly Hallows</td>\n",
              "      <td>J.K. Rowling</td>\n",
              "      <td>Fantasy</td>\n",
              "      <td>English</td>\n",
              "      <td>499</td>\n",
              "      <td>20</td>\n",
              "      <td>40</td>\n",
              "      <td>399.20</td>\n",
              "    </tr>\n",
              "    <tr>\n",
              "      <th>17</th>\n",
              "      <td>Gora</td>\n",
              "      <td>Rabindranath Tagore</td>\n",
              "      <td>Literature &amp; Fiction</td>\n",
              "      <td>Bengali</td>\n",
              "      <td>199</td>\n",
              "      <td>20</td>\n",
              "      <td>40</td>\n",
              "      <td>159.20</td>\n",
              "    </tr>\n",
              "    <tr>\n",
              "      <th>18</th>\n",
              "      <td>Ghore Baire</td>\n",
              "      <td>Rabindranath Tagore</td>\n",
              "      <td>Literature &amp; Fiction</td>\n",
              "      <td>Bengali</td>\n",
              "      <td>199</td>\n",
              "      <td>30</td>\n",
              "      <td>40</td>\n",
              "      <td>139.30</td>\n",
              "    </tr>\n",
              "    <tr>\n",
              "      <th>19</th>\n",
              "      <td>Chorabali</td>\n",
              "      <td>Rabindranath Tagore</td>\n",
              "      <td>Literature &amp; Fiction</td>\n",
              "      <td>Bengali</td>\n",
              "      <td>199</td>\n",
              "      <td>30</td>\n",
              "      <td>40</td>\n",
              "      <td>139.30</td>\n",
              "    </tr>\n",
              "    <tr>\n",
              "      <th>20</th>\n",
              "      <td>Anandamath</td>\n",
              "      <td>Bankimchandra Chatterjee</td>\n",
              "      <td>Literature &amp; Fiction</td>\n",
              "      <td>Bengali</td>\n",
              "      <td>150</td>\n",
              "      <td>30</td>\n",
              "      <td>40</td>\n",
              "      <td>105.00</td>\n",
              "    </tr>\n",
              "    <tr>\n",
              "      <th>21</th>\n",
              "      <td>Nirmala</td>\n",
              "      <td>Premchand</td>\n",
              "      <td>Literature &amp; Fiction</td>\n",
              "      <td>Hindi</td>\n",
              "      <td>150</td>\n",
              "      <td>30</td>\n",
              "      <td>50</td>\n",
              "      <td>105.00</td>\n",
              "    </tr>\n",
              "    <tr>\n",
              "      <th>22</th>\n",
              "      <td>Gaban</td>\n",
              "      <td>Premchand</td>\n",
              "      <td>Literature &amp; Fiction</td>\n",
              "      <td>Hindi</td>\n",
              "      <td>150</td>\n",
              "      <td>30</td>\n",
              "      <td>50</td>\n",
              "      <td>105.00</td>\n",
              "    </tr>\n",
              "    <tr>\n",
              "      <th>23</th>\n",
              "      <td>Kafan</td>\n",
              "      <td>Premchand</td>\n",
              "      <td>Literature &amp; Fiction</td>\n",
              "      <td>Hindi</td>\n",
              "      <td>150</td>\n",
              "      <td>30</td>\n",
              "      <td>50</td>\n",
              "      <td>105.00</td>\n",
              "    </tr>\n",
              "    <tr>\n",
              "      <th>24</th>\n",
              "      <td>Karmbhumi</td>\n",
              "      <td>Premchand</td>\n",
              "      <td>Literature &amp; Fiction</td>\n",
              "      <td>Hindi</td>\n",
              "      <td>150</td>\n",
              "      <td>30</td>\n",
              "      <td>50</td>\n",
              "      <td>105.00</td>\n",
              "    </tr>\n",
              "    <tr>\n",
              "      <th>25</th>\n",
              "      <td>Five Point Someone ; What Not To Do At Iit</td>\n",
              "      <td>Chetan Bhagat</td>\n",
              "      <td>Literature &amp; Fiction</td>\n",
              "      <td>English</td>\n",
              "      <td>250</td>\n",
              "      <td>30</td>\n",
              "      <td>50</td>\n",
              "      <td>175.00</td>\n",
              "    </tr>\n",
              "    <tr>\n",
              "      <th>26</th>\n",
              "      <td>The 3 Mistakes Of My Life</td>\n",
              "      <td>Chetan Bhagat</td>\n",
              "      <td>Literature &amp; Fiction</td>\n",
              "      <td>English</td>\n",
              "      <td>250</td>\n",
              "      <td>30</td>\n",
              "      <td>50</td>\n",
              "      <td>175.00</td>\n",
              "    </tr>\n",
              "    <tr>\n",
              "      <th>27</th>\n",
              "      <td>Wuthering Heights</td>\n",
              "      <td>Emily Bronte</td>\n",
              "      <td>Literature &amp; Fiction</td>\n",
              "      <td>English</td>\n",
              "      <td>199</td>\n",
              "      <td>50</td>\n",
              "      <td>50</td>\n",
              "      <td>99.50</td>\n",
              "    </tr>\n",
              "    <tr>\n",
              "      <th>28</th>\n",
              "      <td>Pride &amp; Prejudice</td>\n",
              "      <td>Jane Austen</td>\n",
              "      <td>Literature &amp; Fiction</td>\n",
              "      <td>English</td>\n",
              "      <td>199</td>\n",
              "      <td>50</td>\n",
              "      <td>50</td>\n",
              "      <td>99.50</td>\n",
              "    </tr>\n",
              "    <tr>\n",
              "      <th>29</th>\n",
              "      <td>The Blue Umbrella</td>\n",
              "      <td>Ruskin Bond</td>\n",
              "      <td>Literature &amp; Fiction</td>\n",
              "      <td>English</td>\n",
              "      <td>99</td>\n",
              "      <td>25</td>\n",
              "      <td>50</td>\n",
              "      <td>74.25</td>\n",
              "    </tr>\n",
              "    <tr>\n",
              "      <th>30</th>\n",
              "      <td>The Room On The Roof</td>\n",
              "      <td>Ruskin Bond</td>\n",
              "      <td>Literature &amp; Fiction</td>\n",
              "      <td>English</td>\n",
              "      <td>149</td>\n",
              "      <td>15</td>\n",
              "      <td>50</td>\n",
              "      <td>126.65</td>\n",
              "    </tr>\n",
              "    <tr>\n",
              "      <th>31</th>\n",
              "      <td>Shanku Samagra</td>\n",
              "      <td>Satyajit Ray</td>\n",
              "      <td>Sci-fi</td>\n",
              "      <td>Bengali</td>\n",
              "      <td>599</td>\n",
              "      <td>20</td>\n",
              "      <td>25</td>\n",
              "      <td>479.20</td>\n",
              "    </tr>\n",
              "    <tr>\n",
              "      <th>32</th>\n",
              "      <td>Journey to the Centre of the Earth</td>\n",
              "      <td>Jules Verne</td>\n",
              "      <td>Sci-fi</td>\n",
              "      <td>English</td>\n",
              "      <td>150</td>\n",
              "      <td>20</td>\n",
              "      <td>25</td>\n",
              "      <td>120.00</td>\n",
              "    </tr>\n",
              "    <tr>\n",
              "      <th>33</th>\n",
              "      <td>From Earth to Moon</td>\n",
              "      <td>Jules Verne</td>\n",
              "      <td>Sci-fi</td>\n",
              "      <td>English</td>\n",
              "      <td>199</td>\n",
              "      <td>20</td>\n",
              "      <td>25</td>\n",
              "      <td>159.20</td>\n",
              "    </tr>\n",
              "    <tr>\n",
              "      <th>34</th>\n",
              "      <td>Around the World in Eighty Days</td>\n",
              "      <td>Jules Verne</td>\n",
              "      <td>Sci-fi</td>\n",
              "      <td>English</td>\n",
              "      <td>250</td>\n",
              "      <td>20</td>\n",
              "      <td>25</td>\n",
              "      <td>200.00</td>\n",
              "    </tr>\n",
              "    <tr>\n",
              "      <th>35</th>\n",
              "      <td>The Time Machine</td>\n",
              "      <td>HG Wells</td>\n",
              "      <td>Sci-fi</td>\n",
              "      <td>English</td>\n",
              "      <td>175</td>\n",
              "      <td>25</td>\n",
              "      <td>40</td>\n",
              "      <td>131.25</td>\n",
              "    </tr>\n",
              "    <tr>\n",
              "      <th>36</th>\n",
              "      <td>The Inviscible Man</td>\n",
              "      <td>HG Wells</td>\n",
              "      <td>Sci-fi</td>\n",
              "      <td>English</td>\n",
              "      <td>175</td>\n",
              "      <td>25</td>\n",
              "      <td>40</td>\n",
              "      <td>131.25</td>\n",
              "    </tr>\n",
              "    <tr>\n",
              "      <th>37</th>\n",
              "      <td>War of the Worlds</td>\n",
              "      <td>HG Wells</td>\n",
              "      <td>Sci-fi</td>\n",
              "      <td>English</td>\n",
              "      <td>175</td>\n",
              "      <td>25</td>\n",
              "      <td>40</td>\n",
              "      <td>131.25</td>\n",
              "    </tr>\n",
              "    <tr>\n",
              "      <th>38</th>\n",
              "      <td>Three Rays: Stories from Satyajit Ray</td>\n",
              "      <td>Satyajit Ray</td>\n",
              "      <td>Sci-fi</td>\n",
              "      <td>Bengali</td>\n",
              "      <td>799</td>\n",
              "      <td>25</td>\n",
              "      <td>40</td>\n",
              "      <td>599.25</td>\n",
              "    </tr>\n",
              "  </tbody>\n",
              "</table>\n",
              "</div>"
            ],
            "text/plain": [
              "                                         Title  ... Final_Price\n",
              "0                            The Secret Garden  ...      122.50\n",
              "1       The Complete Novels of Sherlock Holmes  ...      199.20\n",
              "2            The Adventures of Sherlock Holmes  ...      199.20\n",
              "3                         The Girl in Room 105  ...      139.30\n",
              "4                 The Girl in Room 105 (Hindi)  ...      104.30\n",
              "5                          One Arranged Murder  ...      157.50\n",
              "6        Murder on the Orient Express (Poirot)  ...      209.30\n",
              "7       The Mystery of the Blue Train (Poirot)  ...      209.30\n",
              "8     The Complete Adventures of Feluda Vol. 1  ...      419.30\n",
              "9     The Complete Adventures of Feluda Vol. 2  ...      419.30\n",
              "10    Harry Potter and the Philosopher's Stone  ...      399.20\n",
              "11    Harry Potter and the Chamber of Secrets   ...      399.20\n",
              "12         Harry Potter and the Goblet of Fire  ...      399.20\n",
              "13   Harry Potter and the Order of the Phoenix  ...      399.20\n",
              "14      Harry Potter and the Half-Blood Prince  ...      399.20\n",
              "15       Harry Potter and the Deathly Hallows   ...      399.20\n",
              "16       Harry Potter and the Deathly Hallows   ...      399.20\n",
              "17                                        Gora  ...      159.20\n",
              "18                                 Ghore Baire  ...      139.30\n",
              "19                                   Chorabali  ...      139.30\n",
              "20                                  Anandamath  ...      105.00\n",
              "21                                     Nirmala  ...      105.00\n",
              "22                                       Gaban  ...      105.00\n",
              "23                                       Kafan  ...      105.00\n",
              "24                                   Karmbhumi  ...      105.00\n",
              "25  Five Point Someone ; What Not To Do At Iit  ...      175.00\n",
              "26                   The 3 Mistakes Of My Life  ...      175.00\n",
              "27                           Wuthering Heights  ...       99.50\n",
              "28                           Pride & Prejudice  ...       99.50\n",
              "29                           The Blue Umbrella  ...       74.25\n",
              "30                        The Room On The Roof  ...      126.65\n",
              "31                              Shanku Samagra  ...      479.20\n",
              "32          Journey to the Centre of the Earth  ...      120.00\n",
              "33                          From Earth to Moon  ...      159.20\n",
              "34             Around the World in Eighty Days  ...      200.00\n",
              "35                            The Time Machine  ...      131.25\n",
              "36                          The Inviscible Man  ...      131.25\n",
              "37                           War of the Worlds  ...      131.25\n",
              "38       Three Rays: Stories from Satyajit Ray  ...      599.25\n",
              "\n",
              "[39 rows x 8 columns]"
            ]
          },
          "metadata": {},
          "execution_count": 1
        }
      ]
    },
    {
      "cell_type": "code",
      "metadata": {
        "colab": {
          "base_uri": "https://localhost:8080/"
        },
        "id": "Ow58OCGNi3wG",
        "outputId": "5e2a6012-3d49-48df-fc92-5ca0e85c28f7"
      },
      "source": [
        "import json\n",
        "from pprint import pprint\n",
        "\n",
        "json_str = sheet.to_json()\n",
        "\n",
        "print(pprint(json_str))"
      ],
      "execution_count": null,
      "outputs": [
        {
          "output_type": "stream",
          "name": "stdout",
          "text": [
            "('{\"Title\":{\"0\":\"The Secret Garden\",\"1\":\"The Complete Novels of Sherlock '\n",
            " 'Holmes\",\"2\":\"The Adventures of Sherlock Holmes\",\"3\":\"The Girl in Room '\n",
            " '105\",\"4\":\"The Girl in Room 105 (Hindi)\",\"5\":\"One Arranged '\n",
            " 'Murder\",\"6\":\"Murder on the Orient Express (Poirot)\",\"7\":\"The Mystery of the '\n",
            " 'Blue Train (Poirot)\",\"8\":\"The Complete Adventures of Feluda Vol. 1\",\"9\":\"The '\n",
            " 'Complete Adventures of Feluda Vol. 2\",\"10\":\"Harry Potter and the '\n",
            " 'Philosopher\\'s Stone\",\"11\":\"Harry Potter and the Chamber of Secrets '\n",
            " '\",\"12\":\"Harry Potter and the Goblet of Fire\",\"13\":\"Harry Potter and the '\n",
            " 'Order of the Phoenix\",\"14\":\"Harry Potter and the Half-Blood '\n",
            " 'Prince\",\"15\":\"Harry Potter and the Deathly Hallows \",\"16\":\"Harry Potter and '\n",
            " 'the Deathly Hallows \",\"17\":\"Gora\",\"18\":\"Ghore '\n",
            " 'Baire\",\"19\":\"Chorabali\",\"20\":\"Anandamath\",\"21\":\"Nirmala\",\"22\":\"Gaban\",\"23\":\"Kafan\",\"24\":\"Karmbhumi\",\"25\":\"Five '\n",
            " 'Point Someone ; What Not To Do At Iit\",\"26\":\"The 3 Mistakes Of My '\n",
            " 'Life\",\"27\":\"Wuthering Heights\",\"28\":\"Pride & Prejudice\",\"29\":\"The Blue '\n",
            " 'Umbrella\",\"30\":\"The Room On The Roof\",\"31\":\"Shanku Samagra\",\"32\":\"Journey to '\n",
            " 'the Centre of the Earth\",\"33\":\"From Earth to Moon\",\"34\":\"Around the World in '\n",
            " 'Eighty Days\",\"35\":\"The Time Machine\",\"36\":\"The Inviscible Man\",\"37\":\"War of '\n",
            " 'the Worlds\",\"38\":\"Three Rays: Stories from Satyajit '\n",
            " 'Ray\"},\"Author\":{\"0\":\"Frances Hodgson Burnett\",\"1\":\"Arthur Conan Doyle '\n",
            " '\",\"2\":\"Arthur Conan Doyle \",\"3\":\"Chetan Bhagat\",\"4\":\"Chetan '\n",
            " 'Bhagat\",\"5\":\"Chetan Bhagat\",\"6\":\"Agatha Christie\",\"7\":\"Agatha '\n",
            " 'Christie\",\"8\":\"Satyajit Ray\",\"9\":\"Satyajit Ray\",\"10\":\"J.K. '\n",
            " 'Rowling\",\"11\":\"J.K. Rowling\",\"12\":\"J.K. Rowling\",\"13\":\"J.K. '\n",
            " 'Rowling\",\"14\":\"J.K. Rowling\",\"15\":\"J.K. Rowling\",\"16\":\"J.K. '\n",
            " 'Rowling\",\"17\":\"Rabindranath Tagore\",\"18\":\"Rabindranath '\n",
            " 'Tagore\",\"19\":\"Rabindranath Tagore\",\"20\":\"Bankimchandra '\n",
            " 'Chatterjee\",\"21\":\"Premchand\",\"22\":\"Premchand\",\"23\":\"Premchand\",\"24\":\"Premchand\",\"25\":\"Chetan '\n",
            " 'Bhagat\",\"26\":\"Chetan Bhagat\",\"27\":\"Emily Bronte\",\"28\":\"Jane '\n",
            " 'Austen\",\"29\":\"Ruskin Bond\",\"30\":\"Ruskin Bond\",\"31\":\"Satyajit '\n",
            " 'Ray\",\"32\":\"Jules Verne\",\"33\":\"Jules Verne\",\"34\":\"Jules Verne\",\"35\":\"HG '\n",
            " 'Wells\",\"36\":\"HG Wells\",\"37\":\"HG Wells\",\"38\":\"Satyajit '\n",
            " 'Ray\"},\"Category\":{\"0\":\"Crime, Thriller & Mystery\",\"1\":\"Crime, Thriller & '\n",
            " 'Mystery\",\"2\":\"Crime, Thriller & Mystery\",\"3\":\"Crime, Thriller & '\n",
            " 'Mystery\",\"4\":\"Crime, Thriller & Mystery\",\"5\":\"Crime, Thriller & '\n",
            " 'Mystery\",\"6\":\"Crime, Thriller & Mystery\",\"7\":\"Crime, Thriller & '\n",
            " 'Mystery\",\"8\":\"Crime, Thriller & Mystery\",\"9\":\"Crime, Thriller & '\n",
            " 'Mystery\",\"10\":\"Fantasy\",\"11\":\"Fantasy\",\"12\":\"Fantasy\",\"13\":\"Fantasy\",\"14\":\"Fantasy\",\"15\":\"Fantasy\",\"16\":\"Fantasy\",\"17\":\"Literature '\n",
            " '& Fiction\",\"18\":\"Literature & Fiction\",\"19\":\"Literature & '\n",
            " 'Fiction\",\"20\":\"Literature & Fiction\",\"21\":\"Literature & '\n",
            " 'Fiction\",\"22\":\"Literature & Fiction\",\"23\":\"Literature & '\n",
            " 'Fiction\",\"24\":\"Literature & Fiction\",\"25\":\"Literature & '\n",
            " 'Fiction\",\"26\":\"Literature & Fiction\",\"27\":\"Literature & '\n",
            " 'Fiction\",\"28\":\"Literature & Fiction\",\"29\":\"Literature & '\n",
            " 'Fiction\",\"30\":\"Literature & '\n",
            " 'Fiction\",\"31\":\"Sci-fi\",\"32\":\"Sci-fi\",\"33\":\"Sci-fi\",\"34\":\"Sci-fi\",\"35\":\"Sci-fi\",\"36\":\"Sci-fi\",\"37\":\"Sci-fi\",\"38\":\"Sci-fi\"},\"Language\":{\"0\":\"English\",\"1\":\"English\",\"2\":\"English\",\"3\":\"English\",\"4\":\"Hindi\",\"5\":\"English\",\"6\":\"English\",\"7\":\"English\",\"8\":\"Bengali\",\"9\":\"Bengali\",\"10\":\"English\",\"11\":\"English\",\"12\":\"English\",\"13\":\"English\",\"14\":\"English\",\"15\":\"English\",\"16\":\"English\",\"17\":\"Bengali\",\"18\":\"Bengali\",\"19\":\"Bengali\",\"20\":\"Bengali\",\"21\":\"Hindi\",\"22\":\"Hindi\",\"23\":\"Hindi\",\"24\":\"Hindi\",\"25\":\"English\",\"26\":\"English\",\"27\":\"English\",\"28\":\"English\",\"29\":\"English\",\"30\":\"English\",\"31\":\"Bengali\",\"32\":\"English\",\"33\":\"English\",\"34\":\"English\",\"35\":\"English\",\"36\":\"English\",\"37\":\"English\",\"38\":\"Bengali\"},\"MRP\":{\"0\":175,\"1\":249,\"2\":249,\"3\":199,\"4\":149,\"5\":225,\"6\":299,\"7\":299,\"8\":599,\"9\":599,\"10\":499,\"11\":499,\"12\":499,\"13\":499,\"14\":499,\"15\":499,\"16\":499,\"17\":199,\"18\":199,\"19\":199,\"20\":150,\"21\":150,\"22\":150,\"23\":150,\"24\":150,\"25\":250,\"26\":250,\"27\":199,\"28\":199,\"29\":99,\"30\":149,\"31\":599,\"32\":150,\"33\":199,\"34\":250,\"35\":175,\"36\":175,\"37\":175,\"38\":799},\"Discount\":{\"0\":30,\"1\":20,\"2\":20,\"3\":30,\"4\":30,\"5\":30,\"6\":30,\"7\":30,\"8\":30,\"9\":30,\"10\":20,\"11\":20,\"12\":20,\"13\":20,\"14\":20,\"15\":20,\"16\":20,\"17\":20,\"18\":30,\"19\":30,\"20\":30,\"21\":30,\"22\":30,\"23\":30,\"24\":30,\"25\":30,\"26\":30,\"27\":50,\"28\":50,\"29\":25,\"30\":15,\"31\":20,\"32\":20,\"33\":20,\"34\":20,\"35\":25,\"36\":25,\"37\":25,\"38\":25},\"Quantity\":{\"0\":50,\"1\":50,\"2\":50,\"3\":50,\"4\":25,\"5\":40,\"6\":25,\"7\":25,\"8\":25,\"9\":25,\"10\":40,\"11\":40,\"12\":40,\"13\":40,\"14\":40,\"15\":40,\"16\":40,\"17\":40,\"18\":40,\"19\":40,\"20\":40,\"21\":50,\"22\":50,\"23\":50,\"24\":50,\"25\":50,\"26\":50,\"27\":50,\"28\":50,\"29\":50,\"30\":50,\"31\":25,\"32\":25,\"33\":25,\"34\":25,\"35\":40,\"36\":40,\"37\":40,\"38\":40},\"Final_Price\":{\"0\":122.5,\"1\":199.2,\"2\":199.2,\"3\":139.3,\"4\":104.3,\"5\":157.5,\"6\":209.3,\"7\":209.3,\"8\":419.3,\"9\":419.3,\"10\":399.2,\"11\":399.2,\"12\":399.2,\"13\":399.2,\"14\":399.2,\"15\":399.2,\"16\":399.2,\"17\":159.2,\"18\":139.3,\"19\":139.3,\"20\":105.0,\"21\":105.0,\"22\":105.0,\"23\":105.0,\"24\":105.0,\"25\":175.0,\"26\":175.0,\"27\":99.5,\"28\":99.5,\"29\":74.25,\"30\":126.65,\"31\":479.2,\"32\":120.0,\"33\":159.2,\"34\":200.0,\"35\":131.25,\"36\":131.25,\"37\":131.25,\"38\":599.25}}')\n",
            "None\n"
          ]
        }
      ]
    },
    {
      "cell_type": "markdown",
      "metadata": {
        "id": "R6eUCXsRm3wQ"
      },
      "source": [
        "Creating JSON File name \"records\" to keep track of our inventory"
      ]
    },
    {
      "cell_type": "code",
      "metadata": {
        "id": "xr5FpmDumAm0"
      },
      "source": [
        "fd = open('records.json','w')\n",
        "fd.write(json_str)\n",
        "fd.close()"
      ],
      "execution_count": null,
      "outputs": []
    },
    {
      "cell_type": "code",
      "metadata": {
        "id": "g7ccusgsnLpJ"
      },
      "source": [
        "fd = open('records.json','r')\n",
        "txt = fd.read()\n",
        "fd.close()"
      ],
      "execution_count": null,
      "outputs": []
    },
    {
      "cell_type": "code",
      "metadata": {
        "id": "KFAMODwPnQwO",
        "colab": {
          "base_uri": "https://localhost:8080/"
        },
        "outputId": "6612a0ab-d773-49f3-c972-3dea0a6aacfc"
      },
      "source": [
        "inv = json.loads(txt)\n",
        "pprint(inv)"
      ],
      "execution_count": null,
      "outputs": [
        {
          "output_type": "stream",
          "name": "stdout",
          "text": [
            "{'Author': {'0': 'Frances Hodgson Burnett',\n",
            "            '1': 'Arthur Conan Doyle ',\n",
            "            '10': 'J.K. Rowling',\n",
            "            '11': 'J.K. Rowling',\n",
            "            '12': 'J.K. Rowling',\n",
            "            '13': 'J.K. Rowling',\n",
            "            '14': 'J.K. Rowling',\n",
            "            '15': 'J.K. Rowling',\n",
            "            '16': 'J.K. Rowling',\n",
            "            '17': 'Rabindranath Tagore',\n",
            "            '18': 'Rabindranath Tagore',\n",
            "            '19': 'Rabindranath Tagore',\n",
            "            '2': 'Arthur Conan Doyle ',\n",
            "            '20': 'Bankimchandra Chatterjee',\n",
            "            '21': 'Premchand',\n",
            "            '22': 'Premchand',\n",
            "            '23': 'Premchand',\n",
            "            '24': 'Premchand',\n",
            "            '25': 'Chetan Bhagat',\n",
            "            '26': 'Chetan Bhagat',\n",
            "            '27': 'Emily Bronte',\n",
            "            '28': 'Jane Austen',\n",
            "            '29': 'Ruskin Bond',\n",
            "            '3': 'Chetan Bhagat',\n",
            "            '30': 'Ruskin Bond',\n",
            "            '31': 'Satyajit Ray',\n",
            "            '32': 'Jules Verne',\n",
            "            '33': 'Jules Verne',\n",
            "            '34': 'Jules Verne',\n",
            "            '35': 'HG Wells',\n",
            "            '36': 'HG Wells',\n",
            "            '37': 'HG Wells',\n",
            "            '38': 'Satyajit Ray',\n",
            "            '4': 'Chetan Bhagat',\n",
            "            '5': 'Chetan Bhagat',\n",
            "            '6': 'Agatha Christie',\n",
            "            '7': 'Agatha Christie',\n",
            "            '8': 'Satyajit Ray',\n",
            "            '9': 'Satyajit Ray'},\n",
            " 'Category': {'0': 'Crime, Thriller & Mystery',\n",
            "              '1': 'Crime, Thriller & Mystery',\n",
            "              '10': 'Fantasy',\n",
            "              '11': 'Fantasy',\n",
            "              '12': 'Fantasy',\n",
            "              '13': 'Fantasy',\n",
            "              '14': 'Fantasy',\n",
            "              '15': 'Fantasy',\n",
            "              '16': 'Fantasy',\n",
            "              '17': 'Literature & Fiction',\n",
            "              '18': 'Literature & Fiction',\n",
            "              '19': 'Literature & Fiction',\n",
            "              '2': 'Crime, Thriller & Mystery',\n",
            "              '20': 'Literature & Fiction',\n",
            "              '21': 'Literature & Fiction',\n",
            "              '22': 'Literature & Fiction',\n",
            "              '23': 'Literature & Fiction',\n",
            "              '24': 'Literature & Fiction',\n",
            "              '25': 'Literature & Fiction',\n",
            "              '26': 'Literature & Fiction',\n",
            "              '27': 'Literature & Fiction',\n",
            "              '28': 'Literature & Fiction',\n",
            "              '29': 'Literature & Fiction',\n",
            "              '3': 'Crime, Thriller & Mystery',\n",
            "              '30': 'Literature & Fiction',\n",
            "              '31': 'Sci-fi',\n",
            "              '32': 'Sci-fi',\n",
            "              '33': 'Sci-fi',\n",
            "              '34': 'Sci-fi',\n",
            "              '35': 'Sci-fi',\n",
            "              '36': 'Sci-fi',\n",
            "              '37': 'Sci-fi',\n",
            "              '38': 'Sci-fi',\n",
            "              '4': 'Crime, Thriller & Mystery',\n",
            "              '5': 'Crime, Thriller & Mystery',\n",
            "              '6': 'Crime, Thriller & Mystery',\n",
            "              '7': 'Crime, Thriller & Mystery',\n",
            "              '8': 'Crime, Thriller & Mystery',\n",
            "              '9': 'Crime, Thriller & Mystery'},\n",
            " 'Discount': {'0': 30,\n",
            "              '1': 20,\n",
            "              '10': 20,\n",
            "              '11': 20,\n",
            "              '12': 20,\n",
            "              '13': 20,\n",
            "              '14': 20,\n",
            "              '15': 20,\n",
            "              '16': 20,\n",
            "              '17': 20,\n",
            "              '18': 30,\n",
            "              '19': 30,\n",
            "              '2': 20,\n",
            "              '20': 30,\n",
            "              '21': 30,\n",
            "              '22': 30,\n",
            "              '23': 30,\n",
            "              '24': 30,\n",
            "              '25': 30,\n",
            "              '26': 30,\n",
            "              '27': 50,\n",
            "              '28': 50,\n",
            "              '29': 25,\n",
            "              '3': 30,\n",
            "              '30': 15,\n",
            "              '31': 20,\n",
            "              '32': 20,\n",
            "              '33': 20,\n",
            "              '34': 20,\n",
            "              '35': 25,\n",
            "              '36': 25,\n",
            "              '37': 25,\n",
            "              '38': 25,\n",
            "              '4': 30,\n",
            "              '5': 30,\n",
            "              '6': 30,\n",
            "              '7': 30,\n",
            "              '8': 30,\n",
            "              '9': 30},\n",
            " 'Final_Price': {'0': 122.5,\n",
            "                 '1': 199.2,\n",
            "                 '10': 399.2,\n",
            "                 '11': 399.2,\n",
            "                 '12': 399.2,\n",
            "                 '13': 399.2,\n",
            "                 '14': 399.2,\n",
            "                 '15': 399.2,\n",
            "                 '16': 399.2,\n",
            "                 '17': 159.2,\n",
            "                 '18': 139.3,\n",
            "                 '19': 139.3,\n",
            "                 '2': 199.2,\n",
            "                 '20': 105.0,\n",
            "                 '21': 105.0,\n",
            "                 '22': 105.0,\n",
            "                 '23': 105.0,\n",
            "                 '24': 105.0,\n",
            "                 '25': 175.0,\n",
            "                 '26': 175.0,\n",
            "                 '27': 99.5,\n",
            "                 '28': 99.5,\n",
            "                 '29': 74.25,\n",
            "                 '3': 139.3,\n",
            "                 '30': 126.65,\n",
            "                 '31': 479.2,\n",
            "                 '32': 120.0,\n",
            "                 '33': 159.2,\n",
            "                 '34': 200.0,\n",
            "                 '35': 131.25,\n",
            "                 '36': 131.25,\n",
            "                 '37': 131.25,\n",
            "                 '38': 599.25,\n",
            "                 '4': 104.3,\n",
            "                 '5': 157.5,\n",
            "                 '6': 209.3,\n",
            "                 '7': 209.3,\n",
            "                 '8': 419.3,\n",
            "                 '9': 419.3},\n",
            " 'Language': {'0': 'English',\n",
            "              '1': 'English',\n",
            "              '10': 'English',\n",
            "              '11': 'English',\n",
            "              '12': 'English',\n",
            "              '13': 'English',\n",
            "              '14': 'English',\n",
            "              '15': 'English',\n",
            "              '16': 'English',\n",
            "              '17': 'Bengali',\n",
            "              '18': 'Bengali',\n",
            "              '19': 'Bengali',\n",
            "              '2': 'English',\n",
            "              '20': 'Bengali',\n",
            "              '21': 'Hindi',\n",
            "              '22': 'Hindi',\n",
            "              '23': 'Hindi',\n",
            "              '24': 'Hindi',\n",
            "              '25': 'English',\n",
            "              '26': 'English',\n",
            "              '27': 'English',\n",
            "              '28': 'English',\n",
            "              '29': 'English',\n",
            "              '3': 'English',\n",
            "              '30': 'English',\n",
            "              '31': 'Bengali',\n",
            "              '32': 'English',\n",
            "              '33': 'English',\n",
            "              '34': 'English',\n",
            "              '35': 'English',\n",
            "              '36': 'English',\n",
            "              '37': 'English',\n",
            "              '38': 'Bengali',\n",
            "              '4': 'Hindi',\n",
            "              '5': 'English',\n",
            "              '6': 'English',\n",
            "              '7': 'English',\n",
            "              '8': 'Bengali',\n",
            "              '9': 'Bengali'},\n",
            " 'MRP': {'0': 175,\n",
            "         '1': 249,\n",
            "         '10': 499,\n",
            "         '11': 499,\n",
            "         '12': 499,\n",
            "         '13': 499,\n",
            "         '14': 499,\n",
            "         '15': 499,\n",
            "         '16': 499,\n",
            "         '17': 199,\n",
            "         '18': 199,\n",
            "         '19': 199,\n",
            "         '2': 249,\n",
            "         '20': 150,\n",
            "         '21': 150,\n",
            "         '22': 150,\n",
            "         '23': 150,\n",
            "         '24': 150,\n",
            "         '25': 250,\n",
            "         '26': 250,\n",
            "         '27': 199,\n",
            "         '28': 199,\n",
            "         '29': 99,\n",
            "         '3': 199,\n",
            "         '30': 149,\n",
            "         '31': 599,\n",
            "         '32': 150,\n",
            "         '33': 199,\n",
            "         '34': 250,\n",
            "         '35': 175,\n",
            "         '36': 175,\n",
            "         '37': 175,\n",
            "         '38': 799,\n",
            "         '4': 149,\n",
            "         '5': 225,\n",
            "         '6': 299,\n",
            "         '7': 299,\n",
            "         '8': 599,\n",
            "         '9': 599},\n",
            " 'Quantity': {'0': 50,\n",
            "              '1': 50,\n",
            "              '10': 40,\n",
            "              '11': 40,\n",
            "              '12': 40,\n",
            "              '13': 40,\n",
            "              '14': 40,\n",
            "              '15': 40,\n",
            "              '16': 40,\n",
            "              '17': 40,\n",
            "              '18': 40,\n",
            "              '19': 40,\n",
            "              '2': 50,\n",
            "              '20': 40,\n",
            "              '21': 50,\n",
            "              '22': 50,\n",
            "              '23': 50,\n",
            "              '24': 50,\n",
            "              '25': 50,\n",
            "              '26': 50,\n",
            "              '27': 50,\n",
            "              '28': 50,\n",
            "              '29': 50,\n",
            "              '3': 50,\n",
            "              '30': 50,\n",
            "              '31': 25,\n",
            "              '32': 25,\n",
            "              '33': 25,\n",
            "              '34': 25,\n",
            "              '35': 40,\n",
            "              '36': 40,\n",
            "              '37': 40,\n",
            "              '38': 40,\n",
            "              '4': 25,\n",
            "              '5': 40,\n",
            "              '6': 25,\n",
            "              '7': 25,\n",
            "              '8': 25,\n",
            "              '9': 25},\n",
            " 'Title': {'0': 'The Secret Garden',\n",
            "           '1': 'The Complete Novels of Sherlock Holmes',\n",
            "           '10': \"Harry Potter and the Philosopher's Stone\",\n",
            "           '11': 'Harry Potter and the Chamber of Secrets ',\n",
            "           '12': 'Harry Potter and the Goblet of Fire',\n",
            "           '13': 'Harry Potter and the Order of the Phoenix',\n",
            "           '14': 'Harry Potter and the Half-Blood Prince',\n",
            "           '15': 'Harry Potter and the Deathly Hallows ',\n",
            "           '16': 'Harry Potter and the Deathly Hallows ',\n",
            "           '17': 'Gora',\n",
            "           '18': 'Ghore Baire',\n",
            "           '19': 'Chorabali',\n",
            "           '2': 'The Adventures of Sherlock Holmes',\n",
            "           '20': 'Anandamath',\n",
            "           '21': 'Nirmala',\n",
            "           '22': 'Gaban',\n",
            "           '23': 'Kafan',\n",
            "           '24': 'Karmbhumi',\n",
            "           '25': 'Five Point Someone ; What Not To Do At Iit',\n",
            "           '26': 'The 3 Mistakes Of My Life',\n",
            "           '27': 'Wuthering Heights',\n",
            "           '28': 'Pride & Prejudice',\n",
            "           '29': 'The Blue Umbrella',\n",
            "           '3': 'The Girl in Room 105',\n",
            "           '30': 'The Room On The Roof',\n",
            "           '31': 'Shanku Samagra',\n",
            "           '32': 'Journey to the Centre of the Earth',\n",
            "           '33': 'From Earth to Moon',\n",
            "           '34': 'Around the World in Eighty Days',\n",
            "           '35': 'The Time Machine',\n",
            "           '36': 'The Inviscible Man',\n",
            "           '37': 'War of the Worlds',\n",
            "           '38': 'Three Rays: Stories from Satyajit Ray',\n",
            "           '4': 'The Girl in Room 105 (Hindi)',\n",
            "           '5': 'One Arranged Murder',\n",
            "           '6': 'Murder on the Orient Express (Poirot)',\n",
            "           '7': 'The Mystery of the Blue Train (Poirot)',\n",
            "           '8': 'The Complete Adventures of Feluda Vol. 1',\n",
            "           '9': 'The Complete Adventures of Feluda Vol. 2'}}\n"
          ]
        }
      ]
    },
    {
      "cell_type": "code",
      "metadata": {
        "colab": {
          "base_uri": "https://localhost:8080/"
        },
        "id": "iXb0qDpMnUPR",
        "outputId": "b33d6c80-a12b-4e15-c5bb-f82f4acbfc50"
      },
      "source": [
        "print(\"Welcome to Priyajeet's Book Store\")\n",
        "print(\"----------------------------------------\")\n",
        "print(\"Books available in the store are: \")\n",
        "print(\"----------------------------------------\")\n",
        "print(sheet.loc[sheet['Quantity']>0]) # Only displays those titles which have atleast one book in stock"
      ],
      "execution_count": null,
      "outputs": [
        {
          "output_type": "stream",
          "name": "stdout",
          "text": [
            "Welcome to Priyajeet's Book Store\n",
            "----------------------------------------\n",
            "Books available in the store are: \n",
            "----------------------------------------\n",
            "                                         Title  ... Final_Price\n",
            "0                            The Secret Garden  ...      122.50\n",
            "1       The Complete Novels of Sherlock Holmes  ...      199.20\n",
            "2            The Adventures of Sherlock Holmes  ...      199.20\n",
            "3                         The Girl in Room 105  ...      139.30\n",
            "4                 The Girl in Room 105 (Hindi)  ...      104.30\n",
            "5                          One Arranged Murder  ...      157.50\n",
            "6        Murder on the Orient Express (Poirot)  ...      209.30\n",
            "7       The Mystery of the Blue Train (Poirot)  ...      209.30\n",
            "8     The Complete Adventures of Feluda Vol. 1  ...      419.30\n",
            "9     The Complete Adventures of Feluda Vol. 2  ...      419.30\n",
            "10    Harry Potter and the Philosopher's Stone  ...      399.20\n",
            "11    Harry Potter and the Chamber of Secrets   ...      399.20\n",
            "12         Harry Potter and the Goblet of Fire  ...      399.20\n",
            "13   Harry Potter and the Order of the Phoenix  ...      399.20\n",
            "14      Harry Potter and the Half-Blood Prince  ...      399.20\n",
            "15       Harry Potter and the Deathly Hallows   ...      399.20\n",
            "16       Harry Potter and the Deathly Hallows   ...      399.20\n",
            "17                                        Gora  ...      159.20\n",
            "18                                 Ghore Baire  ...      139.30\n",
            "19                                   Chorabali  ...      139.30\n",
            "20                                  Anandamath  ...      105.00\n",
            "21                                     Nirmala  ...      105.00\n",
            "22                                       Gaban  ...      105.00\n",
            "23                                       Kafan  ...      105.00\n",
            "24                                   Karmbhumi  ...      105.00\n",
            "25  Five Point Someone ; What Not To Do At Iit  ...      175.00\n",
            "26                   The 3 Mistakes Of My Life  ...      175.00\n",
            "27                           Wuthering Heights  ...       99.50\n",
            "28                           Pride & Prejudice  ...       99.50\n",
            "29                           The Blue Umbrella  ...       74.25\n",
            "30                        The Room On The Roof  ...      126.65\n",
            "31                              Shanku Samagra  ...      479.20\n",
            "32          Journey to the Centre of the Earth  ...      120.00\n",
            "33                          From Earth to Moon  ...      159.20\n",
            "34             Around the World in Eighty Days  ...      200.00\n",
            "35                            The Time Machine  ...      131.25\n",
            "36                          The Inviscible Man  ...      131.25\n",
            "37                           War of the Worlds  ...      131.25\n",
            "38       Three Rays: Stories from Satyajit Ray  ...      599.25\n",
            "\n",
            "[39 rows x 8 columns]\n"
          ]
        }
      ]
    },
    {
      "cell_type": "markdown",
      "metadata": {
        "id": "zmMOeP0mr2go"
      },
      "source": [
        "Searching book by author name"
      ]
    },
    {
      "cell_type": "code",
      "metadata": {
        "colab": {
          "base_uri": "https://localhost:8080/"
        },
        "id": "9GCM-2BKn_h7",
        "outputId": "3d5d6f68-a5ed-4616-ca37-fa66eda56690"
      },
      "source": [
        "print('We have books by the following authors')\n",
        "\n",
        "for a in (sheet['Author'].unique()):\n",
        "    print(a)"
      ],
      "execution_count": null,
      "outputs": [
        {
          "output_type": "stream",
          "name": "stdout",
          "text": [
            "We have books by the following authors\n",
            "Frances Hodgson Burnett\n",
            "Arthur Conan Doyle \n",
            "Chetan Bhagat\n",
            "Agatha Christie\n",
            "Satyajit Ray\n",
            "J.K. Rowling\n",
            "Rabindranath Tagore\n",
            "Bankimchandra Chatterjee\n",
            "Premchand\n",
            "Emily Bronte\n",
            "Jane Austen\n",
            "Ruskin Bond\n",
            "Jules Verne\n",
            "HG Wells\n"
          ]
        }
      ]
    },
    {
      "cell_type": "code",
      "metadata": {
        "colab": {
          "base_uri": "https://localhost:8080/"
        },
        "id": "oCDg0mDltD9g",
        "outputId": "74152f71-71dd-4b23-a400-dfbf074bbb27"
      },
      "source": [
        "n = input('Enter the name of the author to see the books we got: ')\n",
        "\n",
        "print(sheet.loc[sheet['Author']==n])"
      ],
      "execution_count": null,
      "outputs": [
        {
          "output_type": "stream",
          "name": "stdout",
          "text": [
            "Enter the name of the author to see the books we got: Satyajit Ray\n",
            "                                       Title  ... Final_Price\n",
            "8   The Complete Adventures of Feluda Vol. 1  ...      419.30\n",
            "9   The Complete Adventures of Feluda Vol. 2  ...      419.30\n",
            "31                            Shanku Samagra  ...      479.20\n",
            "38     Three Rays: Stories from Satyajit Ray  ...      599.25\n",
            "\n",
            "[4 rows x 8 columns]\n"
          ]
        }
      ]
    },
    {
      "cell_type": "markdown",
      "metadata": {
        "id": "sq_Ux66hxon2"
      },
      "source": [
        "Searching book by category"
      ]
    },
    {
      "cell_type": "code",
      "metadata": {
        "colab": {
          "base_uri": "https://localhost:8080/"
        },
        "id": "iqbSQYC4uLG0",
        "outputId": "16087e03-41c4-44e2-9d73-43026a943b1d"
      },
      "source": [
        "print('We have books of the following category')\n",
        "\n",
        "for c in sheet['Category'].unique():\n",
        "    print(c)"
      ],
      "execution_count": null,
      "outputs": [
        {
          "output_type": "stream",
          "name": "stdout",
          "text": [
            "We have books of the following category\n",
            "Crime, Thriller & Mystery\n",
            "Fantasy\n",
            "Literature & Fiction\n",
            "Sci-fi\n"
          ]
        }
      ]
    },
    {
      "cell_type": "code",
      "metadata": {
        "colab": {
          "base_uri": "https://localhost:8080/"
        },
        "id": "Me2F6AXGyDg7",
        "outputId": "cf1108b0-5111-48f9-b8e4-050cd622a1f0"
      },
      "source": [
        "n = input('Enter the category to see the books we got: ')\n",
        "\n",
        "print(sheet.loc[sheet['Category']==n])"
      ],
      "execution_count": null,
      "outputs": [
        {
          "output_type": "stream",
          "name": "stdout",
          "text": [
            "Enter the category to see the books we got: Sci-fi\n",
            "                                    Title        Author  ... Quantity Final_Price\n",
            "31                         Shanku Samagra  Satyajit Ray  ...       25      479.20\n",
            "32     Journey to the Centre of the Earth   Jules Verne  ...       25      120.00\n",
            "33                     From Earth to Moon   Jules Verne  ...       25      159.20\n",
            "34        Around the World in Eighty Days   Jules Verne  ...       25      200.00\n",
            "35                       The Time Machine      HG Wells  ...       40      131.25\n",
            "36                     The Inviscible Man      HG Wells  ...       40      131.25\n",
            "37                      War of the Worlds      HG Wells  ...       40      131.25\n",
            "38  Three Rays: Stories from Satyajit Ray  Satyajit Ray  ...       40      599.25\n",
            "\n",
            "[8 rows x 8 columns]\n"
          ]
        }
      ]
    },
    {
      "cell_type": "markdown",
      "metadata": {
        "id": "U-ox11egyvxv"
      },
      "source": [
        "Searching by language of book"
      ]
    },
    {
      "cell_type": "code",
      "metadata": {
        "colab": {
          "base_uri": "https://localhost:8080/"
        },
        "id": "XvN3MgSKyMKg",
        "outputId": "902d31ec-f368-4671-869f-3cebfa2c9ed5"
      },
      "source": [
        "print('We have books of the following languages')\n",
        "\n",
        "for l in sheet['Language'].unique():\n",
        "    print(l)"
      ],
      "execution_count": null,
      "outputs": [
        {
          "output_type": "stream",
          "name": "stdout",
          "text": [
            "We have books of the following languages\n",
            "English\n",
            "Hindi\n",
            "Bengali\n"
          ]
        }
      ]
    },
    {
      "cell_type": "code",
      "metadata": {
        "colab": {
          "base_uri": "https://localhost:8080/"
        },
        "id": "0QqTzareyjFY",
        "outputId": "ebee23da-4e6d-41d0-ffb8-9647ddc59127"
      },
      "source": [
        "n = input('Enter the language to see the books we got: ')\n",
        "\n",
        "print(sheet.loc[sheet['Language']==n])"
      ],
      "execution_count": null,
      "outputs": [
        {
          "output_type": "stream",
          "name": "stdout",
          "text": [
            "Enter the language to see the books we got: Bengali\n",
            "                                       Title  ... Final_Price\n",
            "8   The Complete Adventures of Feluda Vol. 1  ...      419.30\n",
            "9   The Complete Adventures of Feluda Vol. 2  ...      419.30\n",
            "17                                      Gora  ...      159.20\n",
            "18                               Ghore Baire  ...      139.30\n",
            "19                                 Chorabali  ...      139.30\n",
            "20                                Anandamath  ...      105.00\n",
            "31                            Shanku Samagra  ...      479.20\n",
            "38     Three Rays: Stories from Satyajit Ray  ...      599.25\n",
            "\n",
            "[8 rows x 8 columns]\n"
          ]
        }
      ]
    },
    {
      "cell_type": "markdown",
      "metadata": {
        "id": "q7vNsirszRfl"
      },
      "source": [
        "Searching book by price range"
      ]
    },
    {
      "cell_type": "code",
      "metadata": {
        "colab": {
          "base_uri": "https://localhost:8080/"
        },
        "id": "2c6nZFt-ypgy",
        "outputId": "0a1a050b-7388-4511-b99a-49c3966d45ea"
      },
      "source": [
        "n = int(input('Enter your budget to see the books we got within your budget: '))\n",
        "\n",
        "print(sheet.loc[sheet['Final_Price']<=n])"
      ],
      "execution_count": null,
      "outputs": [
        {
          "output_type": "stream",
          "name": "stdout",
          "text": [
            "Enter your budget to see the books we got within your budget: 150\n",
            "                                 Title  ... Final_Price\n",
            "0                    The Secret Garden  ...      122.50\n",
            "3                 The Girl in Room 105  ...      139.30\n",
            "4         The Girl in Room 105 (Hindi)  ...      104.30\n",
            "18                         Ghore Baire  ...      139.30\n",
            "19                           Chorabali  ...      139.30\n",
            "20                          Anandamath  ...      105.00\n",
            "21                             Nirmala  ...      105.00\n",
            "22                               Gaban  ...      105.00\n",
            "23                               Kafan  ...      105.00\n",
            "24                           Karmbhumi  ...      105.00\n",
            "27                   Wuthering Heights  ...       99.50\n",
            "28                   Pride & Prejudice  ...       99.50\n",
            "29                   The Blue Umbrella  ...       74.25\n",
            "30                The Room On The Roof  ...      126.65\n",
            "32  Journey to the Centre of the Earth  ...      120.00\n",
            "35                    The Time Machine  ...      131.25\n",
            "36                  The Inviscible Man  ...      131.25\n",
            "37                   War of the Worlds  ...      131.25\n",
            "\n",
            "[18 rows x 8 columns]\n"
          ]
        }
      ]
    },
    {
      "cell_type": "markdown",
      "metadata": {
        "id": "l0LNU7uy-V2D"
      },
      "source": [
        "Creating Shopping Cart"
      ]
    },
    {
      "cell_type": "code",
      "metadata": {
        "colab": {
          "base_uri": "https://localhost:8080/"
        },
        "id": "CNvGaAMqzoxy",
        "outputId": "59daeaec-55d0-4008-f16e-e1df901f2cb0"
      },
      "source": [
        "import random\n",
        "\n",
        "shopping_cart = {}\n",
        "keep_shopping = True\n",
        "\n",
        "print()\n",
        "while keep_shopping:\n",
        "    book_no = input(\"Enter the id number of the book you want to buy: \")\n",
        "    if book_no in inv['Title']:\n",
        "        print(f\"The product u have chosen is : {inv['Title'][book_no]} by\",inv['Author'][book_no])\n",
        "        quantity = input(\"Enter the quantity of books you want to buy: \")\n",
        "        if (int(quantity) <= int(inv[\"Quantity\"][book_no])):\n",
        "            print()\n",
        "            new_quantity = int(inv[\"Quantity\"][book_no]) - int(quantity)\n",
        "            inv[\"Quantity\"][book_no] = new_quantity\n",
        "            total_price = int(inv[\"Final_Price\"][book_no])*int(quantity)\n",
        "        \n",
        "            print(\"Item added to cart\")\n",
        "            print(f\"Total Price is {total_price} ({inv['Discount'][book_no]} % Off)\")\n",
        "            print()\n",
        "            user_continue = input(\"Do you want to continue Shopping? If Yes type 'Y' else type 'N': \")\n",
        "            random_id = str(random.randint(100,999))\n",
        "            shopping_cart[random_id]={}\n",
        "            shopping_cart[random_id][\"Product ID\"]=book_no\n",
        "            shopping_cart[random_id][\"Title\"]=inv[\"Title\"][book_no]\n",
        "            shopping_cart[random_id][\"Price\"]=inv[\"Final_Price\"][book_no]\n",
        "            shopping_cart[random_id][\"Quantity\"]=quantity\n",
        "            shopping_cart[random_id][\"Total Price\"]=str(total_price)\n",
        "            if user_continue == \"N\".lower():\n",
        "                keep_shopping = False\n",
        "            \n",
        "        elif (int(quantity) >= int(inv[\"Quantity\"][book_no])):\n",
        "            print(\"Sorry we do not have the item in the given quantity at present\")\n",
        "                                 \n",
        "print()           \n",
        "print(\"Thank You for shopping with us\")"
      ],
      "execution_count": null,
      "outputs": [
        {
          "output_type": "stream",
          "name": "stdout",
          "text": [
            "\n",
            "Enter the id number of the book you want to buy: 2\n",
            "The product u have chosen is : The Adventures of Sherlock Holmes by Arthur Conan Doyle \n",
            "Enter the quantity of books you want to buy: 2\n",
            "\n",
            "Item added to cart\n",
            "Total Price is 398 (20 % Off)\n",
            "\n",
            "Do you want to continue Shopping? If Yes type 'Y' else type 'N': y\n",
            "Enter the id number of the book you want to buy: 8\n",
            "The product u have chosen is : The Complete Adventures of Feluda Vol. 1 by Satyajit Ray\n",
            "Enter the quantity of books you want to buy: 3\n",
            "\n",
            "Item added to cart\n",
            "Total Price is 1257 (30 % Off)\n",
            "\n",
            "Do you want to continue Shopping? If Yes type 'Y' else type 'N': y\n",
            "Enter the id number of the book you want to buy: 16\n",
            "The product u have chosen is : Harry Potter and the Deathly Hallows  by J.K. Rowling\n",
            "Enter the quantity of books you want to buy: 4\n",
            "\n",
            "Item added to cart\n",
            "Total Price is 1596 (20 % Off)\n",
            "\n",
            "Do you want to continue Shopping? If Yes type 'Y' else type 'N': y\n",
            "Enter the id number of the book you want to buy: 32\n",
            "The product u have chosen is : Journey to the Centre of the Earth by Jules Verne\n",
            "Enter the quantity of books you want to buy: 5\n",
            "\n",
            "Item added to cart\n",
            "Total Price is 600 (20 % Off)\n",
            "\n",
            "Do you want to continue Shopping? If Yes type 'Y' else type 'N': y\n",
            "Enter the id number of the book you want to buy: 18\n",
            "The product u have chosen is : Ghore Baire by Rabindranath Tagore\n",
            "Enter the quantity of books you want to buy: 60\n",
            "Sorry we do not have the item in the given quantity at present\n",
            "Enter the id number of the book you want to buy: 33\n",
            "The product u have chosen is : From Earth to Moon by Jules Verne\n",
            "Enter the quantity of books you want to buy: 4\n",
            "\n",
            "Item added to cart\n",
            "Total Price is 636 (20 % Off)\n",
            "\n",
            "Do you want to continue Shopping? If Yes type 'Y' else type 'N': n\n",
            "\n",
            "Thank You for shopping with us\n"
          ]
        }
      ]
    },
    {
      "cell_type": "code",
      "metadata": {
        "colab": {
          "base_uri": "https://localhost:8080/"
        },
        "id": "pH1kEiKT51uu",
        "outputId": "3be962b7-8513-4b01-ad91-3f8c92db7fd9"
      },
      "source": [
        "shopping_cart"
      ],
      "execution_count": null,
      "outputs": [
        {
          "output_type": "execute_result",
          "data": {
            "text/plain": [
              "{'259': {'Price': 419.3,\n",
              "  'Product ID': '8',\n",
              "  'Quantity': '3',\n",
              "  'Title': 'The Complete Adventures of Feluda Vol. 1',\n",
              "  'Total Price': '1257'},\n",
              " '375': {'Price': 399.2,\n",
              "  'Product ID': '16',\n",
              "  'Quantity': '4',\n",
              "  'Title': 'Harry Potter and the Deathly Hallows ',\n",
              "  'Total Price': '1596'},\n",
              " '657': {'Price': 199.2,\n",
              "  'Product ID': '2',\n",
              "  'Quantity': '2',\n",
              "  'Title': 'The Adventures of Sherlock Holmes',\n",
              "  'Total Price': '398'},\n",
              " '747': {'Price': 159.2,\n",
              "  'Product ID': '33',\n",
              "  'Quantity': '4',\n",
              "  'Title': 'From Earth to Moon',\n",
              "  'Total Price': '636'},\n",
              " '938': {'Price': 120.0,\n",
              "  'Product ID': '32',\n",
              "  'Quantity': '5',\n",
              "  'Title': 'Journey to the Centre of the Earth',\n",
              "  'Total Price': '600'}}"
            ]
          },
          "metadata": {},
          "execution_count": 22
        }
      ]
    },
    {
      "cell_type": "markdown",
      "metadata": {
        "id": "PVDH0aZYNXkf"
      },
      "source": [
        "Removing items from the cart"
      ]
    },
    {
      "cell_type": "code",
      "metadata": {
        "colab": {
          "base_uri": "https://localhost:8080/"
        },
        "id": "VceaepM7_-3w",
        "outputId": "db675335-412d-4338-e808-a3b34d98a726"
      },
      "source": [
        "from prettytable import PrettyTable as pt\n",
        "\n",
        "check_cart = True\n",
        "\n",
        "while check_cart:\n",
        "    cart_table=pt(['Product ID','Title','Author','Quantity','Final Price'])\n",
        "    for i in shopping_cart.keys():\n",
        "        j = shopping_cart[i]\n",
        "        cart_table.add_row([j['Product ID'],j['Title'],inv['Author'][j['Product ID']],j['Quantity'],j['Total Price']])\n",
        "    print('Your items in the cart:')\n",
        "    print(cart_table)\n",
        "\n",
        "    user_continue = input(\"Do you want to remove any item? If Yes type 'Y' else type 'N' to continue to checkout: \")\n",
        "    if user_continue == \"N\".lower():\n",
        "        check_cart = False\n",
        "    else:\n",
        "        n = input('Enter the product id to remove: ')\n",
        "        for i in shopping_cart.keys():\n",
        "            j = shopping_cart[i]\n",
        "            if j['Product ID'] == n:\n",
        "                shopping_cart.pop(i)\n",
        "                inv[\"Quantity\"][n] += int(j['Quantity']) \n",
        "                break\n"
      ],
      "execution_count": null,
      "outputs": [
        {
          "name": "stdout",
          "output_type": "stream",
          "text": [
            "Your items in the cart:\n",
            "+------------+------------------------------------------+---------------------+----------+-------------+\n",
            "| Product ID |                  Title                   |        Author       | Quantity | Final Price |\n",
            "+------------+------------------------------------------+---------------------+----------+-------------+\n",
            "|     2      |    The Adventures of Sherlock Holmes     | Arthur Conan Doyle  |    2     |     398     |\n",
            "|     8      | The Complete Adventures of Feluda Vol. 1 |     Satyajit Ray    |    3     |     1257    |\n",
            "|     16     |  Harry Potter and the Deathly Hallows    |     J.K. Rowling    |    4     |     1596    |\n",
            "|     32     |    Journey to the Centre of the Earth    |     Jules Verne     |    5     |     600     |\n",
            "|     33     |            From Earth to Moon            |     Jules Verne     |    4     |     636     |\n",
            "+------------+------------------------------------------+---------------------+----------+-------------+\n",
            "Do you want to remove any item? If Yes type 'Y' else type 'N' to continue to checkout: y\n",
            "Enter the product id to remove: 33\n",
            "Your items in the cart:\n",
            "+------------+------------------------------------------+---------------------+----------+-------------+\n",
            "| Product ID |                  Title                   |        Author       | Quantity | Final Price |\n",
            "+------------+------------------------------------------+---------------------+----------+-------------+\n",
            "|     2      |    The Adventures of Sherlock Holmes     | Arthur Conan Doyle  |    2     |     398     |\n",
            "|     8      | The Complete Adventures of Feluda Vol. 1 |     Satyajit Ray    |    3     |     1257    |\n",
            "|     16     |  Harry Potter and the Deathly Hallows    |     J.K. Rowling    |    4     |     1596    |\n",
            "|     32     |    Journey to the Centre of the Earth    |     Jules Verne     |    5     |     600     |\n",
            "+------------+------------------------------------------+---------------------+----------+-------------+\n",
            "Do you want to remove any item? If Yes type 'Y' else type 'N' to continue to checkout: n\n"
          ]
        }
      ]
    },
    {
      "cell_type": "markdown",
      "metadata": {
        "id": "ycefSqXEQlGA"
      },
      "source": [
        "Calculating the Bill and printing it"
      ]
    },
    {
      "cell_type": "code",
      "metadata": {
        "colab": {
          "base_uri": "https://localhost:8080/"
        },
        "id": "z9iH32WKOLQB",
        "outputId": "d2803be0-3c06-44fd-84ea-eb6245cd8f1f"
      },
      "source": [
        "import time\n",
        "\n",
        "bill_table = pt(['Customer Name', 'Mobile', 'Time of Purchase', 'Total Billing Amount'])\n",
        "total_bill = 0\n",
        "bill={}\n",
        "for i in shopping_cart.keys():\n",
        "    j = shopping_cart[i]\n",
        "    total_bill += int(j[\"Total Price\"])\n",
        "\n",
        "customer_name = input(\"Enter your name: \")\n",
        "mobile = input(\"Enter your mobile number: \")\n",
        "print()\n",
        "current_time = time.ctime()\n",
        "bill[\"Name\"] = customer_name\n",
        "bill[\"Mobile\"] = mobile\n",
        "bill[\"Time\"] = current_time\n",
        "bill[\"Total Amount\"] = str(total_bill)\n",
        "\n",
        "bill_table.add_row([customer_name, mobile, current_time, total_bill])\n",
        "print(bill_table)"
      ],
      "execution_count": null,
      "outputs": [
        {
          "output_type": "stream",
          "name": "stdout",
          "text": [
            "Enter your name: Tony Stark\n",
            "Enter your mobile number: 2129704133\n",
            "\n",
            "+---------------+------------+--------------------------+----------------------+\n",
            "| Customer Name |   Mobile   |     Time of Purchase     | Total Billing Amount |\n",
            "+---------------+------------+--------------------------+----------------------+\n",
            "|   Tony Stark  | 2129704133 | Mon Sep  6 12:39:16 2021 |         3851         |\n",
            "+---------------+------------+--------------------------+----------------------+\n"
          ]
        }
      ]
    },
    {
      "cell_type": "markdown",
      "metadata": {
        "id": "SRPBuQkxZZqo"
      },
      "source": [
        "Creating Purchase.json file to keep the purchase history of a customer"
      ]
    },
    {
      "cell_type": "code",
      "metadata": {
        "colab": {
          "base_uri": "https://localhost:8080/"
        },
        "id": "TSZLl4wbZYl4",
        "outputId": "7f4bef6c-4dd6-4826-8712-284898488e7e"
      },
      "source": [
        "cart = {}\n",
        "\n",
        "cart[mobile] = shopping_cart # using mobile no as unique purchase id\n",
        "\n",
        "c = json.dumps(cart)\n",
        "\n",
        "file = open('Purchase.json','w')\n",
        "file.write(c)\n",
        "file.close()\n",
        "\n",
        "pprint(c)"
      ],
      "execution_count": null,
      "outputs": [
        {
          "output_type": "stream",
          "name": "stdout",
          "text": [
            "('{\"2129704133\": {\"657\": {\"Product ID\": \"2\", \"Title\": \"The Adventures of '\n",
            " 'Sherlock Holmes\", \"Price\": 199.2, \"Quantity\": \"2\", \"Total Price\": \"398\"}, '\n",
            " '\"259\": {\"Product ID\": \"8\", \"Title\": \"The Complete Adventures of Feluda Vol. '\n",
            " '1\", \"Price\": 419.3, \"Quantity\": \"3\", \"Total Price\": \"1257\"}, \"375\": '\n",
            " '{\"Product ID\": \"16\", \"Title\": \"Harry Potter and the Deathly Hallows \", '\n",
            " '\"Price\": 399.2, \"Quantity\": \"4\", \"Total Price\": \"1596\"}, \"938\": {\"Product '\n",
            " 'ID\": \"32\", \"Title\": \"Journey to the Centre of the Earth\", \"Price\": 120.0, '\n",
            " '\"Quantity\": \"5\", \"Total Price\": \"600\"}}}')\n"
          ]
        }
      ]
    },
    {
      "cell_type": "markdown",
      "metadata": {
        "id": "YMs_im8aYkVn"
      },
      "source": [
        "Creating a Sales.json file to keep track of sales"
      ]
    },
    {
      "cell_type": "code",
      "metadata": {
        "id": "zfzHkbDTR0Qj"
      },
      "source": [
        "sales={}\n",
        "sales.update(bill)\n",
        "s = json.dumps(sales)\n",
        "\n",
        "file = open('Sales.json','w')\n",
        "file.write(s)\n",
        "file.close()"
      ],
      "execution_count": null,
      "outputs": []
    },
    {
      "cell_type": "code",
      "metadata": {
        "colab": {
          "base_uri": "https://localhost:8080/"
        },
        "id": "QTnvsCfMYrRq",
        "outputId": "be27e300-ea26-4392-a302-794b456217be"
      },
      "source": [
        "file = open('Sales.json','r')\n",
        "txt = file.read()\n",
        "file.close()\n",
        "\n",
        "sales_file = json.loads(txt)\n",
        "print(pprint(sales_file))"
      ],
      "execution_count": null,
      "outputs": [
        {
          "output_type": "stream",
          "name": "stdout",
          "text": [
            "{'Mobile': '2129704133',\n",
            " 'Name': 'Tony Stark',\n",
            " 'Time': 'Mon Sep  6 12:39:16 2021',\n",
            " 'Total Amount': '3851'}\n",
            "None\n"
          ]
        }
      ]
    },
    {
      "cell_type": "markdown",
      "metadata": {
        "id": "ouRQYZYZfRVj"
      },
      "source": [
        "Checking the purchase history of some customer"
      ]
    },
    {
      "cell_type": "code",
      "metadata": {
        "colab": {
          "base_uri": "https://localhost:8080/"
        },
        "id": "5J5SmFyofV-x",
        "outputId": "2010a079-78cd-4718-9f11-645140c856a8"
      },
      "source": [
        "f = open('Purchase.json','r')\n",
        "t = f.read()\n",
        "file.close()\n",
        "\n",
        "purchase = json.loads(t)\n",
        "n = input('Enter the mobile number: ')\n",
        "purchase[mobile]"
      ],
      "execution_count": null,
      "outputs": [
        {
          "name": "stdout",
          "output_type": "stream",
          "text": [
            "Enter the mobile number: 2129704133\n"
          ]
        },
        {
          "output_type": "execute_result",
          "data": {
            "text/plain": [
              "{'259': {'Price': 419.3,\n",
              "  'Product ID': '8',\n",
              "  'Quantity': '3',\n",
              "  'Title': 'The Complete Adventures of Feluda Vol. 1',\n",
              "  'Total Price': '1257'},\n",
              " '375': {'Price': 399.2,\n",
              "  'Product ID': '16',\n",
              "  'Quantity': '4',\n",
              "  'Title': 'Harry Potter and the Deathly Hallows ',\n",
              "  'Total Price': '1596'},\n",
              " '657': {'Price': 199.2,\n",
              "  'Product ID': '2',\n",
              "  'Quantity': '2',\n",
              "  'Title': 'The Adventures of Sherlock Holmes',\n",
              "  'Total Price': '398'},\n",
              " '938': {'Price': 120.0,\n",
              "  'Product ID': '32',\n",
              "  'Quantity': '5',\n",
              "  'Title': 'Journey to the Centre of the Earth',\n",
              "  'Total Price': '600'}}"
            ]
          },
          "metadata": {},
          "execution_count": 30
        }
      ]
    },
    {
      "cell_type": "markdown",
      "metadata": {
        "id": "RGE-BLRnbwnp"
      },
      "source": [
        "Updating the inventory"
      ]
    },
    {
      "cell_type": "code",
      "metadata": {
        "colab": {
          "base_uri": "https://localhost:8080/"
        },
        "id": "2cfMsCBwZBCm",
        "outputId": "a04263fe-91b3-4cc7-d078-0ecee8c31d6d"
      },
      "source": [
        "ims =json.dumps(inv)\n",
        "\n",
        "file = open('records.json','w')\n",
        "file.write(ims)\n",
        "file.close()\n",
        "\n",
        "file = open('records.json','r')\n",
        "inv = json.loads(file.read())\n",
        "print(\"Inventory\")\n",
        "print(\"-------------------------------------------------------------------------\")\n",
        "print(\"{:<3} {:<50} {:<30} {:<10}\".format('ID', 'Title', 'Author', 'Quantity'))\n",
        "for i in inv['Title']:\n",
        "    print (\"{:<3} {:<50} {:<30} {:<10}\".format(i,inv['Title'][i],inv['Author'][i],inv['Quantity'][i]))\n",
        "    "
      ],
      "execution_count": null,
      "outputs": [
        {
          "output_type": "stream",
          "name": "stdout",
          "text": [
            "Inventory\n",
            "-------------------------------------------------------------------------\n",
            "ID  Title                                              Author                         Quantity  \n",
            "0   The Secret Garden                                  Frances Hodgson Burnett        50        \n",
            "1   The Complete Novels of Sherlock Holmes             Arthur Conan Doyle             50        \n",
            "2   The Adventures of Sherlock Holmes                  Arthur Conan Doyle             108       \n",
            "3   The Girl in Room 105                               Chetan Bhagat                  50        \n",
            "4   The Girl in Room 105 (Hindi)                       Chetan Bhagat                  25        \n",
            "5   One Arranged Murder                                Chetan Bhagat                  40        \n",
            "6   Murder on the Orient Express (Poirot)              Agatha Christie                25        \n",
            "7   The Mystery of the Blue Train (Poirot)             Agatha Christie                25        \n",
            "8   The Complete Adventures of Feluda Vol. 1           Satyajit Ray                   22        \n",
            "9   The Complete Adventures of Feluda Vol. 2           Satyajit Ray                   25        \n",
            "10  Harry Potter and the Philosopher's Stone           J.K. Rowling                   40        \n",
            "11  Harry Potter and the Chamber of Secrets            J.K. Rowling                   40        \n",
            "12  Harry Potter and the Goblet of Fire                J.K. Rowling                   40        \n",
            "13  Harry Potter and the Order of the Phoenix          J.K. Rowling                   40        \n",
            "14  Harry Potter and the Half-Blood Prince             J.K. Rowling                   40        \n",
            "15  Harry Potter and the Deathly Hallows               J.K. Rowling                   40        \n",
            "16  Harry Potter and the Deathly Hallows               J.K. Rowling                   36        \n",
            "17  Gora                                               Rabindranath Tagore            40        \n",
            "18  Ghore Baire                                        Rabindranath Tagore            40        \n",
            "19  Chorabali                                          Rabindranath Tagore            40        \n",
            "20  Anandamath                                         Bankimchandra Chatterjee       40        \n",
            "21  Nirmala                                            Premchand                      50        \n",
            "22  Gaban                                              Premchand                      50        \n",
            "23  Kafan                                              Premchand                      50        \n",
            "24  Karmbhumi                                          Premchand                      50        \n",
            "25  Five Point Someone ; What Not To Do At Iit         Chetan Bhagat                  50        \n",
            "26  The 3 Mistakes Of My Life                          Chetan Bhagat                  50        \n",
            "27  Wuthering Heights                                  Emily Bronte                   50        \n",
            "28  Pride & Prejudice                                  Jane Austen                    50        \n",
            "29  The Blue Umbrella                                  Ruskin Bond                    50        \n",
            "30  The Room On The Roof                               Ruskin Bond                    50        \n",
            "31  Shanku Samagra                                     Satyajit Ray                   25        \n",
            "32  Journey to the Centre of the Earth                 Jules Verne                    20        \n",
            "33  From Earth to Moon                                 Jules Verne                    25        \n",
            "34  Around the World in Eighty Days                    Jules Verne                    25        \n",
            "35  The Time Machine                                   HG Wells                       40        \n",
            "36  The Inviscible Man                                 HG Wells                       40        \n",
            "37  War of the Worlds                                  HG Wells                       40        \n",
            "38  Three Rays: Stories from Satyajit Ray              Satyajit Ray                   40        \n"
          ]
        }
      ]
    },
    {
      "cell_type": "markdown",
      "metadata": {
        "id": "2TuDTsaFNDzy"
      },
      "source": [
        "On the above Inventory list, you'll find change in the quantity of the books sold like \"The Adventures of Sherlock Holmes\""
      ]
    },
    {
      "cell_type": "markdown",
      "metadata": {
        "id": "hp39_s13Nant"
      },
      "source": [
        "Now, we will add items to the inventory"
      ]
    },
    {
      "cell_type": "markdown",
      "metadata": {
        "id": "T7yTmLRQNf7J"
      },
      "source": [
        "**Adding items to the inventory**"
      ]
    },
    {
      "cell_type": "code",
      "metadata": {
        "id": "VY7NzuNkb0TS",
        "colab": {
          "base_uri": "https://localhost:8080/"
        },
        "outputId": "6e2a62de-e7bc-4229-f8b7-a5fa5b9d6824"
      },
      "source": [
        "id = input(\"Enter the book id: \")\n",
        "print('Quantity of the book at present:',inv['Quantity'][id])\n",
        "new_qn = input('Enter the quantity to be added: ')\n",
        "inv['Quantity'][id] += int(new_qn)\n",
        "print('New quantity:',inv['Quantity'][id])"
      ],
      "execution_count": null,
      "outputs": [
        {
          "output_type": "stream",
          "name": "stdout",
          "text": [
            "Enter the book id: 3\n",
            "Quantity of the book at present: 50\n",
            "Enter the quantity to be added: 50\n",
            "New quantity: 100\n"
          ]
        }
      ]
    },
    {
      "cell_type": "markdown",
      "metadata": {
        "id": "O99EoCX8g1b4"
      },
      "source": [
        "Adding new items"
      ]
    },
    {
      "cell_type": "code",
      "metadata": {
        "id": "KZxUlj7wg514"
      },
      "source": [
        "id = input(\"Enter the id of new book: \")\n",
        "book_name = input(\"Enter the Title of the book: \")\n",
        "author = input(\"Enter the author name: \")\n",
        "category = input(\"Enter the category: \")\n",
        "language = input(\"Enter the language: \")\n",
        "mrp =int(input(\"Enter the Price: \"))\n",
        "dis = int(input(\"Enter the discounr%: \"))\n",
        "qn = int(input(\"Enter the quantity: \"))\n",
        "\n",
        "inv['Title'][id] = book_name\n",
        "inv['Author'][id] = author\n",
        "inv['Category'][id] = category\n",
        "inv['Language'][id] = language\n",
        "inv['Quantity'][id] = qn\n",
        "inv['MRP'] = mrp\n",
        "inv['Discount'] = dis\n",
        "inv['Final_Price'] = mrp - ((dis*mrp)/100) "
      ],
      "execution_count": null,
      "outputs": []
    },
    {
      "cell_type": "code",
      "metadata": {
        "id": "9-44jFjISOSM"
      },
      "source": [
        "#Updating the inventory\n",
        "ims =json.dumps(inv) \n",
        "\n",
        "file = open('records.json','w')\n",
        "file.write(ims)\n",
        "file.close()\n"
      ],
      "execution_count": null,
      "outputs": []
    }
  ]
}